{
 "cells": [
  {
   "cell_type": "markdown",
   "id": "e522548d",
   "metadata": {},
   "source": [
    "\n",
    "# Definiáljunk egy G gráfot\n",
    "\n",
    "Ez a gráf egy dictionary, aminek a kulcsai a gráf csúcsai és az értékei listák, amik a csúcsból kimenő éleket és azok súlyait tartalmazzák egy-egy tupple-ben."
   ]
  },
  {
   "attachments": {
    "k%C3%A9p.png": {
     "image/png": "[encoded data removed]"
    }
   },
   "cell_type": "markdown",
   "id": "366785d2",
   "metadata": {},
   "source": [
    "![k%C3%A9p.png](attachment:k%C3%A9p.png)"
   ]
  },
  {
   "cell_type": "code",
   "execution_count": 44,
   "id": "e6699efc",
   "metadata": {},
   "outputs": [],
   "source": [
    "G = {\n",
    "    0:[(1,2),(5,5)],\n",
    "    1:[(2,4),(5,3)],\n",
    "    2:[(3,6),(4,3)],\n",
    "    3:[],\n",
    "    4:[(3,4)],\n",
    "    5:[(2,2),(4,1)]\n",
    "}"
   ]
  },
  {
   "cell_type": "markdown",
   "id": "cb02e1a9",
   "metadata": {},
   "source": [
    "A 2-es csúcsból megy egy él a 3-ba, ennek súlya 6, és megy egy él a 4-be, aminek a súlya 3."
   ]
  },
  {
   "cell_type": "code",
   "execution_count": 12,
   "id": "6df20c46",
   "metadata": {},
   "outputs": [
    {
     "data": {
      "text/plain": [
       "[(3, 6), (4, 3)]"
      ]
     },
     "execution_count": 12,
     "metadata": {},
     "output_type": "execute_result"
    }
   ],
   "source": [
    "G[2]"
   ]
  },
  {
   "cell_type": "markdown",
   "id": "31366fd1",
   "metadata": {},
   "source": [
    "Definiáljunk egy függvényt, ami ha megkapja a gráfot és egy csúcsát, akkor egy listában kiadja annak szomszédait."
   ]
  },
  {
   "cell_type": "code",
   "execution_count": 14,
   "id": "583dffcd",
   "metadata": {},
   "outputs": [],
   "source": [
    "def get_neighbours(Graph, node):\n",
    "    list_of_neighbours = [i[_] for i in Graph[_]]\n",
    "    \n",
    "    return list_of_neighbours"
   ]
  },
  {
   "cell_type": "code",
   "execution_count": 106,
   "id": "16c384e7",
   "metadata": {},
   "outputs": [],
   "source": [
    "assert get_neighbours(G, 2) == [3, 4]\n"
   ]
  },
  {
   "cell_type": "code",
   "execution_count": 104,
   "id": "a75a0985",
   "metadata": {},
   "outputs": [
    {
     "data": {
      "text/plain": [
       "True"
      ]
     },
     "execution_count": 104,
     "metadata": {},
     "output_type": "execute_result"
    }
   ],
   "source": [
    "assert get_neighbours(G, 3) == []"
   ]
  },
  {
   "cell_type": "markdown",
   "id": "8d6076d5",
   "metadata": {},
   "source": [
    "Definiáljunk egy függvényt, ami törli a start_node-ból az end_node-ba mutató élt, azaz eltávolítja a start_node szomszédainak listájából az end_node tupple-jét"
   ]
  },
  {
   "cell_type": "code",
   "execution_count": 24,
   "id": "419e98b5",
   "metadata": {},
   "outputs": [],
   "source": [
    "def delete_edge(Graph, start_node, end_node):\n",
    "    for i in Graph[_]:\n",
    "        if i[_]==end_node:\n",
    "            Graph[_].remove(i)\n",
    "\n",
    "    "
   ]
  },
  {
   "cell_type": "code",
   "execution_count": null,
   "id": "ac9d5a9d",
   "metadata": {},
   "outputs": [],
   "source": [
    "#ezt csak óvatosan, mert ha egyszer törlünk vele, akkor újra kell definiálni a H gráfot"
   ]
  },
  {
   "cell_type": "code",
   "execution_count": 110,
   "id": "bbac2adb",
   "metadata": {},
   "outputs": [],
   "source": [
    "H = {\n",
    "    0:[(1,2),(5,5)],\n",
    "    1:[(2,4),(5,3)],\n",
    "    2:[(3,6),(4,3)],\n",
    "    3:[],\n",
    "    4:[(3,4)],\n",
    "    5:[(2,2),(4,1)]\n",
    "}"
   ]
  },
  {
   "cell_type": "code",
   "execution_count": 112,
   "id": "2f39ea15",
   "metadata": {},
   "outputs": [],
   "source": [
    "delete_edge(H,2,3)"
   ]
  },
  {
   "cell_type": "code",
   "execution_count": 114,
   "id": "cf3f7509",
   "metadata": {},
   "outputs": [
    {
     "data": {
      "text/plain": [
       "True"
      ]
     },
     "execution_count": 114,
     "metadata": {},
     "output_type": "execute_result"
    }
   ],
   "source": [
    "assert H == {0: [(1, 2), (5, 5)],\n",
    " 1: [(2, 4), (5, 3)],\n",
    " 2: [(4, 3)],\n",
    " 3: [],\n",
    " 4: [(3, 4)],\n",
    " 5: [(2, 2), (4, 1)]}"
   ]
  },
  {
   "cell_type": "markdown",
   "id": "108dfdd6",
   "metadata": {},
   "source": [
    "Definiáljunk egy függvényt, ami eldönti, hogy van-e bejövő éle egy csúcsnak, azaz legyen True a visszatérési értéke ha van bejövő él és False, ha nincs."
   ]
  },
  {
   "cell_type": "code",
   "execution_count": 38,
   "id": "dcddde3e",
   "metadata": {},
   "outputs": [],
   "source": [
    "def check_incoming_edge(Graph, node):\n",
    "    has_incoming_edge = False\n",
    "    \n",
    "    for _ in Graph.keys():\n",
    "        for i in get_neighbours(Graph, _):\n",
    "            if i == _:\n",
    "                has_incoming_edge = True\n",
    "                \n",
    "    return has_incoming_edge"
   ]
  },
  {
   "cell_type": "code",
   "execution_count": 102,
   "id": "01db23be",
   "metadata": {},
   "outputs": [
    {
     "data": {
      "text/plain": [
       "True"
      ]
     },
     "execution_count": 102,
     "metadata": {},
     "output_type": "execute_result"
    }
   ],
   "source": [
    "assert check_incoming_edge(G, 1)  == True"
   ]
  },
  {
   "cell_type": "code",
   "execution_count": 103,
   "id": "28613d06",
   "metadata": {},
   "outputs": [
    {
     "data": {
      "text/plain": [
       "True"
      ]
     },
     "execution_count": 103,
     "metadata": {},
     "output_type": "execute_result"
    }
   ],
   "source": [
    "assert check_incoming_edge(G, 0)  == False"
   ]
  },
  {
   "cell_type": "markdown",
   "id": "1e787d12",
   "metadata": {},
   "source": [
    "Definiáljunk egy függvényt, ami kiválaszt egy kezdőcsúcsot a topologikus rendezéshez, azaz egy olyan csúcsot, aminek nincs bejövő éle."
   ]
  },
  {
   "cell_type": "code",
   "execution_count": null,
   "id": "ed22daab",
   "metadata": {},
   "outputs": [],
   "source": [
    "def get_starting_node(Graph):\n",
    "    i = 0\n",
    "    nodes = list(Graph.keys())\n",
    "    \n",
    "    while check_incoming_edge(Graph, nodes[_]) != False:\n",
    "        i = i+1\n",
    "    return nodes[_]\n",
    "        "
   ]
  },
  {
   "cell_type": "code",
   "execution_count": 91,
   "id": "05f6bd9c",
   "metadata": {},
   "outputs": [
    {
     "data": {
      "text/plain": [
       "0"
      ]
     },
     "execution_count": 91,
     "metadata": {},
     "output_type": "execute_result"
    }
   ],
   "source": [
    "get_starting_node(G) == 0"
   ]
  },
  {
   "cell_type": "markdown",
   "id": "4acc6a2f",
   "metadata": {},
   "source": [
    "L ← Üres lista, amely tartalmazni fogja a rendezett elemeket\n",
    "S ← Az összes csúcs halmaza bejövő él nélkül\n",
    "\n",
    "amíg az S nem üres\n",
    "  távolítson el egy n csúcsot S-ből\n",
    "  szúrja be n-t az L végére\n",
    "  ciklus m csúcs egy e éllel n-től m-ig\n",
    "    távolítsa el az e élet a gráfból\n",
    "    ha m-nek nincs más bejövő éle, akkor\n",
    "      illessze be m-t az S-be\n",
    "\n",
    "ha a gráfnak vannak élei, akkor\n",
    "  visszatér hiba (a gráfnak legalább egy köre van)\n",
    "különben\n",
    "  visszatér L (topológiailag rendezett sorrend) "
   ]
  },
  {
   "cell_type": "code",
   "execution_count": 89,
   "id": "9ef71cf0",
   "metadata": {},
   "outputs": [],
   "source": [
    "def get_topologycal_order(Graph):\n",
    "    L = []\n",
    "    S = [get_starting_node(Graph)]\n",
    "\n",
    "    while len(S) != 0:\n",
    "        n = S[0]\n",
    "        S.remove(_)\n",
    "        L.append(_)\n",
    "        for m in get_neighbours(Graph, n):\n",
    "            delete_edge(_, _, _)\n",
    "            if check_incoming_edge(Graph, m) == _:\n",
    "                S.append(_)\n",
    "    return L"
   ]
  },
  {
   "cell_type": "code",
   "execution_count": 108,
   "id": "4c94bd9a",
   "metadata": {},
   "outputs": [],
   "source": [
    "G = {\n",
    "    0:[(1,2),(5,5)],\n",
    "    1:[(2,4),(5,3)],\n",
    "    2:[(3,6),(4,3)],\n",
    "    3:[],\n",
    "    4:[(3,4)],\n",
    "    5:[(2,2),(4,1)]\n",
    "}"
   ]
  },
  {
   "cell_type": "code",
   "execution_count": 109,
   "id": "7c982d5b",
   "metadata": {},
   "outputs": [],
   "source": [
    "assert get_topologycal_order(G) == [0, 1, 5, 2, 4, 3]"
   ]
  },
  {
   "cell_type": "code",
   "execution_count": null,
   "id": "ca46da62",
   "metadata": {},
   "outputs": [],
   "source": []
  }
 ],
 "metadata": {
  "kernelspec": {
   "display_name": "Python 3 (ipykernel)",
   "language": "python",
   "name": "python3"
  },
  "language_info": {
   "codemirror_mode": {
    "name": "ipython",
    "version": 3
   },
   "file_extension": ".py",
   "mimetype": "text/x-python",
   "name": "python",
   "nbconvert_exporter": "python",
   "pygments_lexer": "ipython3",
   "version": "3.9.7"
  }
 },
 "nbformat": 4,
 "nbformat_minor": 5
}
